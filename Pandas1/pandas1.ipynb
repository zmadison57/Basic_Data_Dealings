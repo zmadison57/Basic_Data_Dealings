{
 "cells": [
  {
   "cell_type": "markdown",
   "metadata": {
    "colab_type": "text",
    "id": "hr6QvWC1sVno"
   },
   "source": [
    "# Pandas 1\n",
    "## September 6th, 2022\n",
    "### Overview: Pandas reading from files, indexing, datetime"
   ]
  },
  {
   "cell_type": "code",
   "execution_count": 1,
   "metadata": {
    "colab": {},
    "colab_type": "code",
    "id": "D1pxi6sWEcmJ"
   },
   "outputs": [],
   "source": [
    "import numpy as np\n",
    "import pandas as pd\n",
    "import datetime "
   ]
  },
  {
   "cell_type": "markdown",
   "metadata": {
    "colab_type": "text",
    "id": "Y8nzrZCaE4bn"
   },
   "source": [
    "# Problem 1"
   ]
  },
  {
   "cell_type": "code",
   "execution_count": 3,
   "metadata": {},
   "outputs": [],
   "source": [
    "# Prob 1\n",
    "def prob1(file='budget.csv'):\n",
    "    \"\"\"\"\n",
    "    Read in budget.csv as a DataFrame with the index as column 0 and perform each of these operations on the DataFrame in order. \n",
    "    \n",
    "    1) Reindex the columns such that amount spent on groceries is the first column and all other columns maintain the same ordering.\n",
    "    2) Sort the DataFrame in descending order based on how much money was spent on Groceries.\n",
    "    3) Reset all values in the 'Rent' column to 800.0.\n",
    "    4) Reset all values in the first 5 data points to 0.0\n",
    "    \n",
    "    Return the values of the updated DataFrame as a NumPy array.\n",
    "    \n",
    "    Parameters:\n",
    "        file (str): name of datafile\n",
    "        \n",
    "    Return:\n",
    "        values (ndarray): values of DataFrame\n",
    "    \"\"\"\n",
    "    #read in file as dataframe with first column serving as inded\n",
    "    budget = pd.read_csv(file,index_col=0)\n",
    "    \n",
    "    #reorder the columns so that groceries are first, otherwise same order\n",
    "    budget = budget.reindex(columns = ['Groceries', 'Rent', 'Utilities', 'Dining Out', 'Gas', 'Out With Friends', 'Netflix'])\n",
    "    \n",
    "    #sort in descending order of groceries\n",
    "    budget.sort_values('Groceries',ascending=False,inplace=True)\n",
    "    \n",
    "    #set rent column to 800\n",
    "    budget['Rent'] = 800.0\n",
    "    \n",
    "    #set all values in the first 5 data points to 0\n",
    "    budget.iloc[[0,1,2,3,4]] = 0.\n",
    "    \n",
    "    #return df as numpy array\n",
    "    return budget.values"
   ]
  },
  {
   "cell_type": "code",
   "execution_count": 4,
   "metadata": {},
   "outputs": [],
   "source": [
    "values1 = prob1()"
   ]
  },
  {
   "cell_type": "markdown",
   "metadata": {
    "colab_type": "text",
    "id": "FcGE9Qq5scpv"
   },
   "source": [
    "# Problem 2"
   ]
  },
  {
   "cell_type": "code",
   "execution_count": 3,
   "metadata": {
    "colab": {},
    "colab_type": "code",
    "id": "bZIdjL74RuuO"
   },
   "outputs": [],
   "source": [
    "# Prob 2\n",
    "def prob2(file='budget.csv'):\n",
    "    \"\"\"\n",
    "    Read in file as DataFrame.\n",
    "    Fill all NaN values with 0.0.\n",
    "    Create two new columns, 'Living Expenses' and 'Other'. \n",
    "    Sum the columns 'Rent', 'Groceries', 'Gas' and 'Utilities' and set it as the value of 'Living Expenses'.\n",
    "    Sum the columns 'Dining Out', 'Out With Friends' and 'Netflix' and set as the value of 'Other'.\n",
    "    Identify which column, other than 'Living Expenses' correlates most with 'Living Expenses'\n",
    "    and which column other than 'Other' correlates most with 'Other'.\n",
    "\n",
    "    Return the names of each of those columns as a tuple.\n",
    "    The first should be of the column corresponding to \\li{'Living Expenses'} and the second to \\li{'Other'}.\n",
    "    \n",
    "    Parameters:\n",
    "        file (str): name of datafile\n",
    "        \n",
    "    Return:\n",
    "        values (tuple): (name of column that most relates to Living Expenses, name of column that most relates to Other)\n",
    "    \"\"\"\n",
    "    #read in budget, NOTE: SHOULD INDEX COLUMN BE FIRST COLUMN AGAIN?\n",
    "    budget = pd.read_csv(file,index_col=0)\n",
    "    \n",
    "    #fill nan values with 0\n",
    "    budget = budget.fillna(0.)\n",
    "    \n",
    "    #create 'Living Expenses' and 'Other' columns, assign values appropriately\n",
    "    #NOTE: when summing the columns, I believe we're also summing row-specific to assign unique values for LE and Other on each row\n",
    "    budget['Living Expenses'] = budget[['Rent','Groceries','Gas','Utilities']].sum(axis=1)\n",
    "    budget['Other'] = budget[['Dining Out','Out With Friends','Netflix']].sum(axis=1)\n",
    "    \n",
    "    #correlation matrix\n",
    "    corr = budget.corr()\n",
    "    \n",
    "    #greatest non-self correlations for LE and Other\n",
    "    LE_corr = corr.loc['Living Expenses'].sort_values().index[-2]\n",
    "    Other_corr = corr.loc['Other'].sort_values().index[-2]\n",
    "    \n",
    "    return (LE_corr,Other_corr)"
   ]
  },
  {
   "cell_type": "code",
   "execution_count": 5,
   "metadata": {},
   "outputs": [],
   "source": [
    "values2 = prob2()"
   ]
  },
  {
   "cell_type": "markdown",
   "metadata": {
    "colab_type": "text",
    "id": "qVHAwFRRseXh"
   },
   "source": [
    "# Problem 3"
   ]
  },
  {
   "cell_type": "code",
   "execution_count": 6,
   "metadata": {
    "colab": {},
    "colab_type": "code",
    "id": "35VAshdqZhVD"
   },
   "outputs": [],
   "source": [
    "def prob3(file='crime_data.csv'):\n",
    "    \"\"\"\n",
    "    Read in crime data and use pandas to answer the following questions.\n",
    "    \n",
    "    Set the index as the column 'Year', and return the answers to each question as a tuple.\n",
    "    \n",
    "    1) Identify the three crimes that have a mean over 1,500,000. \n",
    "    Of these three crimes, which two are very correlated? \n",
    "    Which of these two crimes has a greater maximum value?\n",
    "    Save the title of this column as a variable to return as the answer.\n",
    "    \n",
    "    2) Examine the data since 2000.\n",
    "    Sort this data (in ascending order) according to number of murders.\n",
    "    Find the years where Aggravated Assault is greater than 850,000.\n",
    "    Save the indices (the years) of the masked and reordered DataFrame as a NumPy array to return as the answer.\n",
    "    \n",
    "    3) What year had the highest crime rate? \n",
    "    In this year, which crime was committed the most? \n",
    "    What percentage of the total crime that year was it? \n",
    "    Save this value as a float.\n",
    "    \n",
    "    \n",
    "    Parameters:\n",
    "        file (str): data\n",
    "    \n",
    "    Return:\n",
    "        ans_1 (string): answer to Question 1\n",
    "        ans_2 (ndarray): answer to Question 2\n",
    "        ans_3 (float): answer to Question 3\n",
    "    \"\"\"\n",
    "    #read in crime, index col is year\n",
    "    crime = pd.read_csv(file,index_col='Year')\n",
    "    \n",
    "    #Q1\n",
    "    #where means for crimes are greater than 1,500,000\n",
    "    mask = crime.mean() > 1.5e6\n",
    "    cols = crime.columns[mask][2:]           #get columns matching mask, ignore first two entries Population and Total\n",
    "    \n",
    "    #unstack correlation to series, sort, get index pair of greatest value that isn't self corr (at -4 index)\n",
    "    corr_pair = crime[cols].corr().unstack().sort_values().index[-4]\n",
    "    \n",
    "    #get sums of crimes, find which index has a greater count\n",
    "    sums = crime.sum()\n",
    "    #argmax finds index of max of [#Larceny, #Property], then plug this index into corr_pair\n",
    "    ans_1 = corr_pair[np.argmax([sums[corr_pair[0]],sums[corr_pair[1]]])]\n",
    "    \n",
    "    #Q2\n",
    "    #crimes from 2000 onwards, sort (ascending) according to murders\n",
    "    murder_sort = crime.loc[2000:].sort_values('Murder')\n",
    "    #which years have more than 850,000 AAs\n",
    "    years = murder_sort['Aggravated Assault'] > 8.5e5\n",
    "    #in the sorted order, get indices (years) and make into ndarray\n",
    "    ans_2 = murder_sort.index[years].values\n",
    "    \n",
    "    #Q3\n",
    "    #year with highest number of crimes\n",
    "    crime['Crime Rate'] = crime['Total']/crime['Population']\n",
    "    big_crime_year = crime['Crime Rate'].idxmax()\n",
    "    #in this year, sort descending, ignore first two biggest which are always Population and Total, get index of biggest\n",
    "    big_crime = crime.loc[big_crime_year].sort_values(ascending=False)[2:].idxmax()\n",
    "    #get percentage this crime was committed, wants saved as float, not necessarily a numpy float\n",
    "    ans_3 = float(crime.loc[big_crime_year][big_crime] / crime.loc[big_crime_year]['Total'])\n",
    "    \n",
    "    \n",
    "    return (ans_1, ans_2, ans_3)"
   ]
  },
  {
   "cell_type": "code",
   "execution_count": 7,
   "metadata": {},
   "outputs": [],
   "source": [
    "a1,a2,a3 = prob3()"
   ]
  },
  {
   "cell_type": "code",
   "execution_count": 21,
   "metadata": {},
   "outputs": [
    {
     "data": {
      "text/plain": [
       "('Property',\n",
       " array([2000, 2001, 2002, 2003, 2005, 2007, 2006]),\n",
       " 0.8997188308734142)"
      ]
     },
     "execution_count": 21,
     "metadata": {},
     "output_type": "execute_result"
    }
   ],
   "source": [
    "prob3()"
   ]
  },
  {
   "cell_type": "markdown",
   "metadata": {
    "colab_type": "text",
    "id": "4pfN6PbxsgC3"
   },
   "source": [
    "# Problem 4"
   ]
  },
  {
   "cell_type": "code",
   "execution_count": 10,
   "metadata": {
    "colab": {},
    "colab_type": "code",
    "id": "TAavKLA17LsN"
   },
   "outputs": [],
   "source": [
    "def prob4(file='DJIA.csv',dropna=True):\n",
    "    \"\"\"\n",
    "\n",
    "    Read the data with a DatetimeIndex as the index.\n",
    "    Drop rows any rows without numerical values, cast the \"VALUE\" column to floats, then return the updated DataFrame.\n",
    "\n",
    "    Parameters:\n",
    "        file (str): data file\n",
    "        dropna (bool): boolean to choose whether to drop the nan values, defaults to true\n",
    "    Returns:\n",
    "        df (DataFrame): updated DataFrame of stock market data\n",
    "    \"\"\"\n",
    "    #read in file, cast values as floats, set all '.' values as nan\n",
    "    djia = pd.read_csv(file,dtype={'VALUE':np.float64},na_values='.')\n",
    "    \n",
    "    #set index col to datetime of date column, then drop the original date column\n",
    "    djia.set_index(pd.to_datetime(djia['DATE']),inplace=True)\n",
    "    djia.drop(columns='DATE',inplace=True)\n",
    "    \n",
    "    #dropping rows with nan values if desired\n",
    "    if dropna:\n",
    "        djia.dropna(inplace=True)\n",
    "    \n",
    "    return djia"
   ]
  },
  {
   "cell_type": "code",
   "execution_count": 11,
   "metadata": {},
   "outputs": [],
   "source": [
    "djia = prob4()"
   ]
  },
  {
   "cell_type": "markdown",
   "metadata": {
    "colab_type": "text",
    "id": "I663KesNsjMK"
   },
   "source": [
    "# Problem 5"
   ]
  },
  {
   "cell_type": "code",
   "execution_count": 16,
   "metadata": {},
   "outputs": [],
   "source": [
    "def prob5(file='paychecks.csv'):\n",
    "    \"\"\"\n",
    "\n",
    "    Create data_range for index of paycheck data.\n",
    "\n",
    "    Parameters:\n",
    "        file (str): data file\n",
    "    Returns:\n",
    "        df (DataFrame): DataFrame of paycheck data\n",
    "    \"\"\"\n",
    "    #read in the file, name the column of pay value so as not to use first value as a column name\n",
    "    pay = pd.read_csv(file,names=['Amount of Pay'])\n",
    "    \n",
    "    #create datetime index starting on March 13th, 2008, every other friday of the month, one entry for each 93 paychecks\n",
    "    ind = pd.date_range(start='3/13/2008',periods=93,freq='2W-FRI')\n",
    "    \n",
    "    #set the index column to be datetime index, name the column as date\n",
    "    pay.set_index(ind,inplace=True)\n",
    "    pay.index.rename('Date',inplace=True)\n",
    "    \n",
    "    return pay"
   ]
  },
  {
   "cell_type": "code",
   "execution_count": 17,
   "metadata": {},
   "outputs": [],
   "source": [
    "pay = prob5()"
   ]
  },
  {
   "cell_type": "code",
   "execution_count": 22,
   "metadata": {},
   "outputs": [
    {
     "data": {
      "text/html": [
       "<div>\n",
       "<style scoped>\n",
       "    .dataframe tbody tr th:only-of-type {\n",
       "        vertical-align: middle;\n",
       "    }\n",
       "\n",
       "    .dataframe tbody tr th {\n",
       "        vertical-align: top;\n",
       "    }\n",
       "\n",
       "    .dataframe thead th {\n",
       "        text-align: right;\n",
       "    }\n",
       "</style>\n",
       "<table border=\"1\" class=\"dataframe\">\n",
       "  <thead>\n",
       "    <tr style=\"text-align: right;\">\n",
       "      <th></th>\n",
       "      <th>Amount of Pay</th>\n",
       "    </tr>\n",
       "    <tr>\n",
       "      <th>Date</th>\n",
       "      <th></th>\n",
       "    </tr>\n",
       "  </thead>\n",
       "  <tbody>\n",
       "    <tr>\n",
       "      <th>2008-03-14</th>\n",
       "      <td>1122.26</td>\n",
       "    </tr>\n",
       "    <tr>\n",
       "      <th>2008-03-28</th>\n",
       "      <td>921.03</td>\n",
       "    </tr>\n",
       "    <tr>\n",
       "      <th>2008-04-11</th>\n",
       "      <td>962.46</td>\n",
       "    </tr>\n",
       "    <tr>\n",
       "      <th>2008-04-25</th>\n",
       "      <td>1035.97</td>\n",
       "    </tr>\n",
       "    <tr>\n",
       "      <th>2008-05-09</th>\n",
       "      <td>1078.59</td>\n",
       "    </tr>\n",
       "    <tr>\n",
       "      <th>...</th>\n",
       "      <td>...</td>\n",
       "    </tr>\n",
       "    <tr>\n",
       "      <th>2011-07-29</th>\n",
       "      <td>1095.53</td>\n",
       "    </tr>\n",
       "    <tr>\n",
       "      <th>2011-08-12</th>\n",
       "      <td>1018.39</td>\n",
       "    </tr>\n",
       "    <tr>\n",
       "      <th>2011-08-26</th>\n",
       "      <td>1027.08</td>\n",
       "    </tr>\n",
       "    <tr>\n",
       "      <th>2011-09-09</th>\n",
       "      <td>1005.90</td>\n",
       "    </tr>\n",
       "    <tr>\n",
       "      <th>2011-09-23</th>\n",
       "      <td>963.29</td>\n",
       "    </tr>\n",
       "  </tbody>\n",
       "</table>\n",
       "<p>93 rows × 1 columns</p>\n",
       "</div>"
      ],
      "text/plain": [
       "            Amount of Pay\n",
       "Date                     \n",
       "2008-03-14        1122.26\n",
       "2008-03-28         921.03\n",
       "2008-04-11         962.46\n",
       "2008-04-25        1035.97\n",
       "2008-05-09        1078.59\n",
       "...                   ...\n",
       "2011-07-29        1095.53\n",
       "2011-08-12        1018.39\n",
       "2011-08-26        1027.08\n",
       "2011-09-09        1005.90\n",
       "2011-09-23         963.29\n",
       "\n",
       "[93 rows x 1 columns]"
      ]
     },
     "execution_count": 22,
     "metadata": {},
     "output_type": "execute_result"
    }
   ],
   "source": [
    "pay"
   ]
  },
  {
   "cell_type": "markdown",
   "metadata": {
    "colab_type": "text",
    "id": "I663KesNsjMK"
   },
   "source": [
    "# Problem 6"
   ]
  },
  {
   "cell_type": "code",
   "execution_count": 19,
   "metadata": {
    "colab": {},
    "colab_type": "code",
    "id": "KGxh0mpSDLDD"
   },
   "outputs": [],
   "source": [
    "def prob6(file='DJIA.csv'):\n",
    "    \"\"\"\n",
    "    Compute the following information about the DJIA dataset\n",
    "    1. The single day with the largest gain\n",
    "    2. The single day with the largest loss\n",
    "\n",
    "    Parameters:\n",
    "        file (str): data file\n",
    "    Returns:\n",
    "        max_day (<M8[ns]): DateTimeIndex of maximum change\n",
    "        min_day (<M8[ns]): DateTimeIndex of minimum change\n",
    "    \"\"\"\n",
    "    #use prob 4 to get cleaned up df but now with the nan values to make sure differences will actually be adjacent days\n",
    "    djia = prob4(file=file,dropna=False)\n",
    "    \n",
    "    #get absolute differences between dates\n",
    "    diffs = djia - djia.shift(1)\n",
    "    \n",
    "    #get day of greatest gain and greatest loss\n",
    "    imax = diffs.idxmax()\n",
    "    imin = diffs.idxmin()\n",
    "\n",
    "    return imax, imin"
   ]
  },
  {
   "cell_type": "code",
   "execution_count": 23,
   "metadata": {},
   "outputs": [
    {
     "data": {
      "text/plain": [
       "(VALUE   2008-10-13\n",
       " dtype: datetime64[ns], VALUE   2008-09-29\n",
       " dtype: datetime64[ns])"
      ]
     },
     "execution_count": 23,
     "metadata": {},
     "output_type": "execute_result"
    }
   ],
   "source": [
    "prob6()"
   ]
  }
 ],
 "metadata": {
  "colab": {
   "collapsed_sections": [],
   "name": "pandas1.ipynb",
   "provenance": [],
   "version": "0.3.2"
  },
  "kernelspec": {
   "display_name": "Python 3",
   "language": "python",
   "name": "python3"
  },
  "language_info": {
   "codemirror_mode": {
    "name": "ipython",
    "version": 3
   },
   "file_extension": ".py",
   "mimetype": "text/x-python",
   "name": "python",
   "nbconvert_exporter": "python",
   "pygments_lexer": "ipython3",
   "version": "3.7.3"
  }
 },
 "nbformat": 4,
 "nbformat_minor": 4
}
