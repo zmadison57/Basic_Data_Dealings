{
 "cells": [
  {
   "cell_type": "markdown",
   "metadata": {},
   "source": [
    "# SQL 2\n",
    "## April 5th, 2022\n",
    "### Overview: A further excursion into SQL language, now with joining, grouping, etc."
   ]
  },
  {
   "cell_type": "code",
   "execution_count": 1,
   "metadata": {},
   "outputs": [],
   "source": [
    "import sqlite3 as sql"
   ]
  },
  {
   "cell_type": "code",
   "execution_count": 7,
   "metadata": {},
   "outputs": [],
   "source": [
    "# Problem 1\n",
    "def prob1(db_file=\"students.db\"):\n",
    "    \"\"\"Query the database for the list of the names of students who have a\n",
    "    'B' grade in any course. Return the list.\n",
    "\n",
    "    Parameters:\n",
    "        db_file (str): the name of the database to connect to.\n",
    "\n",
    "    Returns:\n",
    "        (list): a list of strings, each of which is a student name.\n",
    "    \"\"\"\n",
    "    with sql.connect(db_file) as conn:\n",
    "        cur = conn.cursor()\n",
    "        \n",
    "        #getting the names of students who have a B in any course\n",
    "        Bs = cur.execute(\"SELECT SI.StudentName \"\n",
    "                   \"FROM StudentInfo AS SI INNER JOIN StudentGrades as SG \"\n",
    "                   \"ON SI.StudentID=SG.StudentID \"\n",
    "                   \"WHERE SG.Grade='B';\").fetchall()\n",
    "    conn.close()\n",
    "    \n",
    "    #extracting student name strings from tuples\n",
    "    B_students = [B[0] for B in Bs]\n",
    "    \n",
    "    return B_students"
   ]
  },
  {
   "cell_type": "code",
   "execution_count": 10,
   "metadata": {},
   "outputs": [],
   "source": [
    "# Problem 2\n",
    "def prob2(db_file=\"students.db\"):\n",
    "    \"\"\"Query the database for all tuples of the form (Name, MajorName, Grade)\n",
    "    where 'Name' is a student's name and 'Grade' is their grade in Calculus.\n",
    "    Only include results for students that are actually taking Calculus, but\n",
    "    be careful not to exclude students who haven't declared a major.\n",
    "\n",
    "    Parameters:\n",
    "        db_file (str): the name of the database to connect to.\n",
    "\n",
    "    Returns:\n",
    "        (list): the complete result set for the query.\n",
    "    \"\"\"\n",
    "    with sql.connect(db_file) as conn:\n",
    "        cur = conn.cursor()\n",
    "        \n",
    "        #left joining student info and major info on major ids, then inner joining with student grades on student ids\n",
    "        #getting student names, their major, and their grades\n",
    "        students = cur.execute(\"SELECT SI.StudentName, MI.MajorName, SG.Grade \"\n",
    "                    \"FROM StudentInfo AS SI LEFT OUTER JOIN MajorInfo AS MI \"\n",
    "                    \"ON SI.MajorID=MI.MajorID \"\n",
    "                    \"INNER JOIN StudentGrades AS SG \"\n",
    "                    \"ON SI.StudentID=SG.StudentID \"\n",
    "                    \"WHERE SG.CourseID=1;\").fetchall()\n",
    "    conn.close()\n",
    "        \n",
    "    return students"
   ]
  },
  {
   "cell_type": "code",
   "execution_count": 57,
   "metadata": {},
   "outputs": [],
   "source": [
    "# Problem 3\n",
    "def prob3(db_file=\"students.db\"):\n",
    "    \"\"\"Query the database for the list of the names of courses that have at\n",
    "    least 5 students enrolled in them.\n",
    "\n",
    "    Parameters:\n",
    "        db_file (str): the name of the database to connect to.\n",
    "\n",
    "    Returns:\n",
    "        (list): a list of strings, each of which is a course name.\n",
    "    \"\"\"\n",
    "    with sql.connect(db_file) as conn:\n",
    "        cur = conn.cursor()\n",
    "        \n",
    "        #getting courses that have at least five students\n",
    "        fives = cur.execute(\"SELECT CI.CourseName \"\n",
    "                    \"FROM CourseInfo as CI INNER JOIN StudentGrades AS SG \"\n",
    "                    \"ON CI.CourseID=SG.CourseID \"\n",
    "                    \"GROUP BY SG.CourseID \"\n",
    "                    \"HAVING COUNT(*)>=5;\").fetchall()\n",
    "        \n",
    "    conn.close()\n",
    "    \n",
    "    #getting just the course names from the tuples\n",
    "    Fives = [f[0] for f in fives]\n",
    "    return Fives"
   ]
  },
  {
   "cell_type": "code",
   "execution_count": 3,
   "metadata": {},
   "outputs": [],
   "source": [
    "# Problem 4\n",
    "def prob4(db_file=\"students.db\"):\n",
    "    \"\"\"Query the given database for tuples of the form (MajorName, N) where N\n",
    "    is the number of students in the specified major. Sort the results in\n",
    "    descending order by the counts N, then in alphabetic order by MajorName.\n",
    "\n",
    "    Parameters:\n",
    "        db_file (str): the name of the database to connect to.\n",
    "\n",
    "    Returns:\n",
    "        (list): the complete result set for the query.\n",
    "    \"\"\"\n",
    "    with sql.connect(db_file) as conn:\n",
    "        cur = conn.cursor()\n",
    "        \n",
    "        #getting major names and the number of students majoring in them, then ordering them\n",
    "        results = cur.execute(\"SELECT MI.MajorName, COUNT(*) AS num_studs \"\n",
    "                              \"FROM StudentInfo as SI LEFT OUTER JOIN MajorInfo as MI \"\n",
    "                              \"ON MI.MajorID=SI.MajorID \"\n",
    "                              \"GROUP BY SI.MajorID \"\n",
    "                              \"ORDER BY num_studs DESC, MI.MajorName ASC;\").fetchall()\n",
    "    conn.close()\n",
    "    \n",
    "    return results"
   ]
  },
  {
   "cell_type": "code",
   "execution_count": 4,
   "metadata": {},
   "outputs": [
    {
     "data": {
      "text/plain": [
       "[(None, 3), ('Science', 3), ('Math', 2), ('Art', 1), ('Writing', 1)]"
      ]
     },
     "execution_count": 4,
     "metadata": {},
     "output_type": "execute_result"
    }
   ],
   "source": [
    "prob4()"
   ]
  },
  {
   "cell_type": "code",
   "execution_count": 75,
   "metadata": {},
   "outputs": [],
   "source": [
    "# Problem 5\n",
    "def prob5(db_file=\"students.db\"):\n",
    "    \"\"\"Query the database for tuples of the form (StudentName, MajorName) where\n",
    "    the last name of the specified student begins with the letter C.\n",
    "\n",
    "    Parameters:\n",
    "        db_file (str): the name of the database to connect to.\n",
    "\n",
    "    Returns:\n",
    "        (list): the complete result set for the query.\n",
    "    \"\"\"\n",
    "    with sql.connect(db_file) as conn:\n",
    "        cur = conn.cursor()\n",
    "        \n",
    "        #getting students and their majors, where the students' last names start with C\n",
    "        results = cur.execute(\"SELECT SI.StudentName, MI.MajorName \"\n",
    "                              \"FROM StudentInfo as SI OUTER LEFT JOIN MajorInfo as MI \"\n",
    "                              \"ON SI.MajorID=MI.MajorID \"\n",
    "                              \"WHERE SI.StudentName LIKE '% C%';\").fetchall()\n",
    "    conn.close()\n",
    "    \n",
    "    return results"
   ]
  },
  {
   "cell_type": "code",
   "execution_count": 109,
   "metadata": {},
   "outputs": [],
   "source": [
    "# Problem 6\n",
    "def prob6(db_file=\"students.db\"):\n",
    "    \"\"\"Query the database for tuples of the form (StudentName, N, GPA) where N\n",
    "    is the number of courses that the specified student is in and 'GPA' is the\n",
    "    grade point average of the specified student according to the following\n",
    "    point system.\n",
    "\n",
    "        A+, A  = 4.0    B  = 3.0    C  = 2.0    D  = 1.0\n",
    "            A- = 3.7    B- = 2.7    C- = 1.7    D- = 0.7\n",
    "            B+ = 3.4    C+ = 2.4    D+ = 1.4\n",
    "\n",
    "    Order the results from greatest GPA to least.\n",
    "\n",
    "    Parameters:\n",
    "        db_file (str): the name of the database to connect to.\n",
    "\n",
    "    Returns:\n",
    "        (list): the complete result set for the query.\n",
    "    \"\"\"\n",
    "    with sql.connect(db_file) as conn:\n",
    "        cur = conn.cursor()\n",
    "        \n",
    "        \n",
    "        #note to me: we're making this new table with the cases, and we're doing so by using the SG table, but then we \n",
    "        #also give this cased table the alias SG\n",
    "        results = cur.execute(\"SELECT SI.StudentName, COUNT(*), AVG(SG.points) \"\n",
    "                              \"FROM (\"\n",
    "                                  \"SELECT StudentID, CASE Grade \"\n",
    "                                      \"WHEN 'A+' THEN 4.0 \"\n",
    "                                      \"WHEN 'A' THEN 4.0 \"\n",
    "                                      \"WHEN 'A-' THEN 3.7 \"\n",
    "                                      \"WHEN 'B+' THEN 3.4 \"\n",
    "                                      \"WHEN 'B' THEN 3.0 \"\n",
    "                                      \"WHEN 'B-' THEN 2.7 \"\n",
    "                                      \"WHEN 'C+' THEN 2.4 \"\n",
    "                                      \"WHEN 'C' THEN 2.0 \"\n",
    "                                      \"WHEN 'C-' THEN 1.7 \"\n",
    "                                      \"WHEN 'D+' THEN 1.4 \"\n",
    "                                      \"WHEN 'D' THEN 1.0 \"\n",
    "                                      \"WHEN 'D-' THEN 0.7 END AS points \"\n",
    "                                 \"FROM StudentGrades) AS SG \"\n",
    "                              \"INNER JOIN StudentInfo as SI \"\n",
    "                              \"ON SI.StudentID=SG.StudentID \"\n",
    "                              \"GROUP BY SG.StudentID;\").fetchall()\n",
    "        \n",
    "    \n",
    "    conn.close()\n",
    "    \n",
    "    return results"
   ]
  },
  {
   "cell_type": "code",
   "execution_count": 110,
   "metadata": {},
   "outputs": [
    {
     "data": {
      "text/plain": [
       "[('Cameron Kim', 3, 2.566666666666667),\n",
       " ('Kristopher Tran', 2, 3.2),\n",
       " ('Alfonso Phelps', 2, 2.5),\n",
       " ('Cassandra Holland', 2, 2.2),\n",
       " ('Michelle Fernandez', 2, 2.35),\n",
       " ('Roberta Cook', 1, 2.0),\n",
       " ('Sammy Burke', 2, 3.85),\n",
       " ('Gilbert Chapman', 3, 3.6666666666666665),\n",
       " ('Mercedes Hall', 3, 2.6666666666666665),\n",
       " ('Rene Cross', 1, 4.0)]"
      ]
     },
     "execution_count": 110,
     "metadata": {},
     "output_type": "execute_result"
    }
   ],
   "source": [
    "prob6()"
   ]
  },
  {
   "cell_type": "code",
   "execution_count": null,
   "metadata": {},
   "outputs": [],
   "source": [
    "results = cur.execute(\"SELECT SI.StudentName, CASE SG.Grade \"\n",
    "                                  \"WHEN 'A+' THEN 4.0 \"\n",
    "                                  \"WHEN 'A' THEN 4.0 \"\n",
    "                                  \"WHEN 'A-' THEN 3.7 \"\n",
    "                                  \"WHEN 'B+' THEN 3.4 \"\n",
    "                                  \"WHEN 'B' THEN 3.0 \"\n",
    "                                  \"WHEN 'B-' THEN 2.7 \"\n",
    "                                  \"WHEN 'C+' THEN 2.4 \"\n",
    "                                  \"WHEN 'C' THEN 2.0 \"\n",
    "                                  \"WHEN 'C-' THEN 1.7 \"\n",
    "                                  \"WHEN 'D+' THEN 1.4 \"\n",
    "                                  \"WHEN 'D' THEN 1.0 \"\n",
    "                                  \"WHEN 'D-' THEN 0.7 END \"\n",
    "                             \"FROM StudentGrades as SG INNER JOIN StudentInfo as SI \"\n",
    "                             \"ON SI.StudentID=SG.StudentID;\").fetchall()"
   ]
  }
 ],
 "metadata": {
  "kernelspec": {
   "display_name": "Python 3",
   "language": "python",
   "name": "python3"
  },
  "language_info": {
   "codemirror_mode": {
    "name": "ipython",
    "version": 3
   },
   "file_extension": ".py",
   "mimetype": "text/x-python",
   "name": "python",
   "nbconvert_exporter": "python",
   "pygments_lexer": "ipython3",
   "version": "3.7.3"
  }
 },
 "nbformat": 4,
 "nbformat_minor": 4
}
